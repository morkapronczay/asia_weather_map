{
 "cells": [
  {
   "cell_type": "code",
   "execution_count": 48,
   "metadata": {},
   "outputs": [],
   "source": [
    "import pandas as pd\n",
    "import folium\n",
    "import numpy as np\n",
    "import json\n",
    "import zipfile\n",
    "import os\n",
    "#import geopandas as gpd\n",
    "import time\n",
    "import datetime\n",
    "import itertools\n",
    "import requests\n",
    "import bs4"
   ]
  },
  {
   "cell_type": "code",
   "execution_count": 55,
   "metadata": {},
   "outputs": [],
   "source": [
    "countries = ['thailand', 'cambodia', 'laos', 'malaysia']"
   ]
  },
  {
   "cell_type": "markdown",
   "metadata": {},
   "source": [
    "## UNZIP DATA"
   ]
  },
  {
   "cell_type": "code",
   "execution_count": null,
   "metadata": {
    "collapsed": true
   },
   "outputs": [],
   "source": [
    "for c in countries:\n",
    "    path_to_zip_file = f'data/{c}.zip'\n",
    "    directory_to_extract_to = 'data/'\n",
    "    zip_ref = zipfile.ZipFile(path_to_zip_file, 'r')\n",
    "    zip_ref.extractall(directory_to_extract_to)\n",
    "    zip_ref.close()\n",
    "    os.unlink(path_to_zip_file)"
   ]
  },
  {
   "cell_type": "markdown",
   "metadata": {},
   "source": [
    "## READ JSON DATA"
   ]
  },
  {
   "cell_type": "code",
   "execution_count": 39,
   "metadata": {
    "collapsed": true
   },
   "outputs": [],
   "source": [
    "def json_reader(path):\n",
    "    with open(path, 'r', encoding='utf-8') as fh:\n",
    "        return json.loads(fh.read())"
   ]
  },
  {
   "cell_type": "code",
   "execution_count": 40,
   "metadata": {
    "collapsed": true
   },
   "outputs": [],
   "source": [
    "geojsons = {f: json_reader(f\"data/{f.capitalize()}_AL4.GeoJson\") for f in countries}"
   ]
  },
  {
   "cell_type": "markdown",
   "metadata": {},
   "source": [
    "## GEOPANDAS FOR ADDITIONAL DATA"
   ]
  },
  {
   "cell_type": "code",
   "execution_count": 52,
   "metadata": {},
   "outputs": [
    {
     "data": {
      "text/html": [
       "<div>\n",
       "<style scoped>\n",
       "    .dataframe tbody tr th:only-of-type {\n",
       "        vertical-align: middle;\n",
       "    }\n",
       "\n",
       "    .dataframe tbody tr th {\n",
       "        vertical-align: top;\n",
       "    }\n",
       "\n",
       "    .dataframe thead th {\n",
       "        text-align: right;\n",
       "    }\n",
       "</style>\n",
       "<table border=\"1\" class=\"dataframe\">\n",
       "  <thead>\n",
       "    <tr style=\"text-align: right;\">\n",
       "      <th></th>\n",
       "      <th>geometry</th>\n",
       "      <th>name</th>\n",
       "      <th>localname</th>\n",
       "      <th>wikipedia</th>\n",
       "      <th>country</th>\n",
       "      <th>centr_lat</th>\n",
       "      <th>centr_lon</th>\n",
       "    </tr>\n",
       "  </thead>\n",
       "  <tbody>\n",
       "    <tr>\n",
       "      <th>0</th>\n",
       "      <td>(POLYGON ((104.4190919 15.6978084, 104.4190978...</td>\n",
       "      <td>Amnat Charoen Province</td>\n",
       "      <td>จังหวัดอำนาจเจริญ</td>\n",
       "      <td>en:Amnat Charoen Province</td>\n",
       "      <td>thailand</td>\n",
       "      <td>104.742211</td>\n",
       "      <td>15.896505</td>\n",
       "    </tr>\n",
       "    <tr>\n",
       "      <th>1</th>\n",
       "      <td>(POLYGON ((100.1949768 14.5658321, 100.1960907...</td>\n",
       "      <td>Ang Thong Province</td>\n",
       "      <td>จังหวัดอ่างทอง</td>\n",
       "      <td>en:Ang Thong Province</td>\n",
       "      <td>thailand</td>\n",
       "      <td>100.355477</td>\n",
       "      <td>14.623284</td>\n",
       "    </tr>\n",
       "    <tr>\n",
       "      <th>2</th>\n",
       "      <td>(POLYGON ((100.3278772 13.8041844, 100.3318503...</td>\n",
       "      <td>Bangkok</td>\n",
       "      <td>กรุงเทพมหานคร</td>\n",
       "      <td>en:Bangkok</td>\n",
       "      <td>thailand</td>\n",
       "      <td>100.623651</td>\n",
       "      <td>13.771980</td>\n",
       "    </tr>\n",
       "    <tr>\n",
       "      <th>3</th>\n",
       "      <td>(POLYGON ((103.24334 18.357593, 103.2434 18.35...</td>\n",
       "      <td>Bueng Kan Province</td>\n",
       "      <td>จังหวัดบึงกาฬ</td>\n",
       "      <td>en:Bueng Kan Province</td>\n",
       "      <td>thailand</td>\n",
       "      <td>103.712064</td>\n",
       "      <td>18.148721</td>\n",
       "    </tr>\n",
       "    <tr>\n",
       "      <th>4</th>\n",
       "      <td>(POLYGON ((102.4355316 14.8494415, 102.4369202...</td>\n",
       "      <td>Buri Ram Province</td>\n",
       "      <td>จังหวัดบุรีรัมย์</td>\n",
       "      <td>en:Buriram Province</td>\n",
       "      <td>thailand</td>\n",
       "      <td>102.962893</td>\n",
       "      <td>14.815251</td>\n",
       "    </tr>\n",
       "  </tbody>\n",
       "</table>\n",
       "</div>"
      ],
      "text/plain": [
       "                                            geometry                    name  \\\n",
       "0  (POLYGON ((104.4190919 15.6978084, 104.4190978...  Amnat Charoen Province   \n",
       "1  (POLYGON ((100.1949768 14.5658321, 100.1960907...      Ang Thong Province   \n",
       "2  (POLYGON ((100.3278772 13.8041844, 100.3318503...                 Bangkok   \n",
       "3  (POLYGON ((103.24334 18.357593, 103.2434 18.35...      Bueng Kan Province   \n",
       "4  (POLYGON ((102.4355316 14.8494415, 102.4369202...       Buri Ram Province   \n",
       "\n",
       "           localname                  wikipedia   country   centr_lat  \\\n",
       "0  จังหวัดอำนาจเจริญ  en:Amnat Charoen Province  thailand  104.742211   \n",
       "1     จังหวัดอ่างทอง      en:Ang Thong Province  thailand  100.355477   \n",
       "2      กรุงเทพมหานคร                 en:Bangkok  thailand  100.623651   \n",
       "3      จังหวัดบึงกาฬ      en:Bueng Kan Province  thailand  103.712064   \n",
       "4   จังหวัดบุรีรัมย์        en:Buriram Province  thailand  102.962893   \n",
       "\n",
       "   centr_lon  \n",
       "0  15.896505  \n",
       "1  14.623284  \n",
       "2  13.771980  \n",
       "3  18.148721  \n",
       "4  14.815251  "
      ]
     },
     "execution_count": 52,
     "metadata": {},
     "output_type": "execute_result"
    }
   ],
   "source": [
    "# concatenate data with country flags\n",
    "for c in countries:\n",
    "    gdf_ = gpd.GeoDataFrame.from_features(geojsons[c])\n",
    "    gdf_['country'] = c\n",
    "    try:\n",
    "        gdf = gdf.append(gdf_, sort = False)\n",
    "    except:\n",
    "        gdf = gdf_\n",
    "\n",
    "# drop some columns and calculate centroids\n",
    "gdf = gdf[['geometry', 'name', 'localname', 'wikipedia', 'country']]\n",
    "gdf['centr_lat'] = gdf.geometry.centroid.x\n",
    "gdf['centr_lon'] = gdf.geometry.centroid.y\n",
    "gdf = gdf.dropna()\n",
    "gdf = gdf.drop_duplicates(subset=['name'])\n",
    "gdf.head()"
   ]
  },
  {
   "cell_type": "code",
   "execution_count": 53,
   "metadata": {},
   "outputs": [
    {
     "data": {
      "text/plain": [
       "(136, 7)"
      ]
     },
     "execution_count": 53,
     "metadata": {},
     "output_type": "execute_result"
    }
   ],
   "source": [
    "gdf.shape"
   ]
  },
  {
   "cell_type": "code",
   "execution_count": 49,
   "metadata": {},
   "outputs": [],
   "source": []
  },
  {
   "cell_type": "markdown",
   "metadata": {},
   "source": [
    "## CREATE AREAS WE HAVE DATA ON"
   ]
  },
  {
   "cell_type": "code",
   "execution_count": null,
   "metadata": {
    "collapsed": true
   },
   "outputs": [],
   "source": []
  },
  {
   "cell_type": "code",
   "execution_count": 9,
   "metadata": {},
   "outputs": [],
   "source": [
    "gdf['dis'] = [1, 1] + [f for f in range(2, 136)] "
   ]
  },
  {
   "cell_type": "code",
   "execution_count": 10,
   "metadata": {
    "collapsed": true
   },
   "outputs": [],
   "source": [
    "gdf_dis = gdf.dissolveolve(by='dis')"
   ]
  },
  {
   "cell_type": "code",
   "execution_count": 11,
   "metadata": {},
   "outputs": [
    {
     "data": {
      "text/plain": [
       "(135, 6)"
      ]
     },
     "execution_count": 11,
     "metadata": {},
     "output_type": "execute_result"
    }
   ],
   "source": [
    "gdf_dis.shape"
   ]
  },
  {
   "cell_type": "code",
   "execution_count": 13,
   "metadata": {},
   "outputs": [
    {
     "data": {
      "text/html": [
       "<div>\n",
       "<style scoped>\n",
       "    .dataframe tbody tr th:only-of-type {\n",
       "        vertical-align: middle;\n",
       "    }\n",
       "\n",
       "    .dataframe tbody tr th {\n",
       "        vertical-align: top;\n",
       "    }\n",
       "\n",
       "    .dataframe thead th {\n",
       "        text-align: right;\n",
       "    }\n",
       "</style>\n",
       "<table border=\"1\" class=\"dataframe\">\n",
       "  <thead>\n",
       "    <tr style=\"text-align: right;\">\n",
       "      <th></th>\n",
       "      <th>geometry</th>\n",
       "      <th>name</th>\n",
       "      <th>localname</th>\n",
       "      <th>wikipedia</th>\n",
       "      <th>centr_lat</th>\n",
       "      <th>centr_lon</th>\n",
       "    </tr>\n",
       "    <tr>\n",
       "      <th>dis</th>\n",
       "      <th></th>\n",
       "      <th></th>\n",
       "      <th></th>\n",
       "      <th></th>\n",
       "      <th></th>\n",
       "      <th></th>\n",
       "    </tr>\n",
       "  </thead>\n",
       "  <tbody>\n",
       "    <tr>\n",
       "      <th>1</th>\n",
       "      <td>(POLYGON ((100.1949768 14.5658321, 100.1960907...</td>\n",
       "      <td>Amnat Charoen Province</td>\n",
       "      <td>จังหวัดอำนาจเจริญ</td>\n",
       "      <td>en:Amnat Charoen Province</td>\n",
       "      <td>104.742211</td>\n",
       "      <td>15.896505</td>\n",
       "    </tr>\n",
       "    <tr>\n",
       "      <th>2</th>\n",
       "      <td>POLYGON ((100.3278772 13.8041844, 100.3318503 ...</td>\n",
       "      <td>Bangkok</td>\n",
       "      <td>กรุงเทพมหานคร</td>\n",
       "      <td>en:Bangkok</td>\n",
       "      <td>100.623651</td>\n",
       "      <td>13.771980</td>\n",
       "    </tr>\n",
       "    <tr>\n",
       "      <th>3</th>\n",
       "      <td>POLYGON ((103.24334 18.357593, 103.2434 18.359...</td>\n",
       "      <td>Bueng Kan Province</td>\n",
       "      <td>จังหวัดบึงกาฬ</td>\n",
       "      <td>en:Bueng Kan Province</td>\n",
       "      <td>103.712064</td>\n",
       "      <td>18.148721</td>\n",
       "    </tr>\n",
       "    <tr>\n",
       "      <th>4</th>\n",
       "      <td>POLYGON ((102.4355316 14.8494415, 102.4369202 ...</td>\n",
       "      <td>Buri Ram Province</td>\n",
       "      <td>จังหวัดบุรีรัมย์</td>\n",
       "      <td>en:Buriram Province</td>\n",
       "      <td>102.962893</td>\n",
       "      <td>14.815251</td>\n",
       "    </tr>\n",
       "    <tr>\n",
       "      <th>5</th>\n",
       "      <td>POLYGON ((100.8489758 13.4791495, 100.849102 1...</td>\n",
       "      <td>Chachoengsao Province</td>\n",
       "      <td>จังหวัดฉะเชิงเทรา</td>\n",
       "      <td>en:Chachoengsao Province</td>\n",
       "      <td>101.451490</td>\n",
       "      <td>13.603437</td>\n",
       "    </tr>\n",
       "  </tbody>\n",
       "</table>\n",
       "</div>"
      ],
      "text/plain": [
       "                                              geometry  \\\n",
       "dis                                                      \n",
       "1    (POLYGON ((100.1949768 14.5658321, 100.1960907...   \n",
       "2    POLYGON ((100.3278772 13.8041844, 100.3318503 ...   \n",
       "3    POLYGON ((103.24334 18.357593, 103.2434 18.359...   \n",
       "4    POLYGON ((102.4355316 14.8494415, 102.4369202 ...   \n",
       "5    POLYGON ((100.8489758 13.4791495, 100.849102 1...   \n",
       "\n",
       "                       name          localname                  wikipedia  \\\n",
       "dis                                                                         \n",
       "1    Amnat Charoen Province  จังหวัดอำนาจเจริญ  en:Amnat Charoen Province   \n",
       "2                   Bangkok      กรุงเทพมหานคร                 en:Bangkok   \n",
       "3        Bueng Kan Province      จังหวัดบึงกาฬ      en:Bueng Kan Province   \n",
       "4         Buri Ram Province   จังหวัดบุรีรัมย์        en:Buriram Province   \n",
       "5     Chachoengsao Province  จังหวัดฉะเชิงเทรา   en:Chachoengsao Province   \n",
       "\n",
       "      centr_lat  centr_lon  \n",
       "dis                         \n",
       "1    104.742211  15.896505  \n",
       "2    100.623651  13.771980  \n",
       "3    103.712064  18.148721  \n",
       "4    102.962893  14.815251  \n",
       "5    101.451490  13.603437  "
      ]
     },
     "execution_count": 13,
     "metadata": {},
     "output_type": "execute_result"
    }
   ],
   "source": [
    "gdf_dis.head()"
   ]
  },
  {
   "cell_type": "code",
   "execution_count": 59,
   "metadata": {
    "collapsed": true
   },
   "outputs": [],
   "source": [
    "## THAILAND\n",
    "bangkok = ['Prachuap Khiri Khan Province', 'Phetchaburi Province', 'Ratchaburi Province', 'Samut Songkhram Province',\n",
    "           'Nakhon Pathom Province', 'Samut Sakhon Province', 'Nonthaburi Province', 'Pathum Thani Province',\n",
    "           'Bangkok', 'Samut Prakan Province', 'Nakhon Nayok Province', 'Prachin Buri Province', 'Sa Kaeo Province', \n",
    "           'Chachoengsao Province', 'Chon Buri Province']\n",
    "\n",
    "rainycoast = ['Rayong Province', 'Chanthaburi Province', 'Trat Province']\n",
    "\n",
    "peni_east = ['Prachuap Khiri Khan Province', 'Chumphon Province', 'Surat Thani Province', 'Nakhon Si Thammarat Province',\n",
    "             'Phatthalung Province', 'Songkhla Province', 'Pattani Province', 'Yala Province', 'Narathiwat Province']\n",
    "\n",
    "peni_west = ['Ranong Province', 'Phangnga Province', 'Phuket Province', 'Krabi Province', 'Trang Province',\n",
    "             'Satun Province']\n",
    "\n",
    "mountains = ['Tak Province', 'Mae Hong Son Province', 'Chiang Mai Province', 'Chiang Rai Province', 'Phayao Province',\n",
    "             'Nan Province', 'Uttaradit Province', 'Phitsanulok Province', 'Loei Province']\n",
    "\n",
    "all_oth_thai = bangkok + rainycoast + peni_east + peni_west + mountains\n",
    "north = [f for f in gdf[gdf['country'] == 'thailand']['name'].tolist() if not f in all_oth_thai]\n",
    "\n",
    "div_map = {f: 'Bangkok' for f in bangkok}\n"
   ]
  },
  {
   "cell_type": "markdown",
   "metadata": {},
   "source": [
    "## GET WEATHER DATA"
   ]
  },
  {
   "cell_type": "markdown",
   "metadata": {},
   "source": [
    "https://www.climatestotravel.com/climate/thailand"
   ]
  },
  {
   "cell_type": "code",
   "execution_count": 57,
   "metadata": {},
   "outputs": [],
   "source": [
    "def get_country_weather(country):\n",
    "    soup = soup_country_page(country)\n",
    "    captions, dfs = scrape_tables(soup)\n",
    "    return parse_tables_captions(captions, dfs)\n",
    "\n",
    "def soup_country_page(country):\n",
    "    r = requests.get(f'https://www.climatestotravel.com/climate/{country}')\n",
    "    return bs4.BeautifulSoup(r.content, 'html5lib')\n",
    "\n",
    "def scrape_tables(soup):\n",
    "    tables = soup.find_all('table')\n",
    "    dfs = []\n",
    "    captions = []\n",
    "    for table in tables:\n",
    "        caption = table.find_all('caption')\n",
    "        table_rows = table.find_all('tr')\n",
    "        res = []\n",
    "        for tr in table_rows:\n",
    "            td = tr.find_all('td')\n",
    "            row = [tr.text.strip() for tr in td if tr.text.strip()]\n",
    "            if row:\n",
    "                res.append(row)\n",
    "        df = pd.DataFrame(res)\n",
    "        dfs.append(df)\n",
    "        captions.append(caption[0].text)\n",
    "    \n",
    "    assert len(captions) == len(dfs), 'Not matching number of captions and tables!'\n",
    "    return captions, dfs\n",
    "\n",
    "def parse_tables_captions(captions, dfs):\n",
    "    new_dfs = {}\n",
    "    for cap, df in zip(captions, dfs):\n",
    "        if (('temper' in cap) & ('Sea' not in cap)):\n",
    "            df.index = ['MinC', 'MaxC',  'MinF', 'MaxF']\n",
    "            df.columns = [f for f in range(1,13)]\n",
    "        elif 'precip' in cap:\n",
    "            df.index = ['Prec(mm)', 'Prec(in)', 'Prec(days)']\n",
    "            df.columns = [f for f in range(1,13)] + ['Year']\n",
    "        elif 'Sunshin' in cap:\n",
    "            df.index = ['HoursDaily']\n",
    "            df.columns = [f for f in range(1,13)]\n",
    "        else:\n",
    "            continue\n",
    "        new_dfs[cap] = df\n",
    "    return new_dfs"
   ]
  },
  {
   "cell_type": "code",
   "execution_count": 58,
   "metadata": {},
   "outputs": [],
   "source": [
    "weathers = [get_country_weather(c) for c in countries]"
   ]
  },
  {
   "cell_type": "markdown",
   "metadata": {},
   "source": [
    "## CREATE MAP"
   ]
  },
  {
   "cell_type": "code",
   "execution_count": 30,
   "metadata": {
    "collapsed": true
   },
   "outputs": [],
   "source": [
    "m = folium.Map(location = (15.896505, 104.742211), zoom_start=8)"
   ]
  },
  {
   "cell_type": "code",
   "execution_count": 31,
   "metadata": {},
   "outputs": [
    {
     "data": {
      "text/plain": [
       "<folium.map.LayerControl at 0x28a5216cef0>"
      ]
     },
     "execution_count": 31,
     "metadata": {},
     "output_type": "execute_result"
    }
   ],
   "source": [
    "for k, v in geojsons.items():\n",
    "    folium.GeoJson(\n",
    "        v,\n",
    "        name=k.capitalize()\n",
    "    ).add_to(m)\n",
    "\n",
    "fg = folium.FeatureGroup(name='Regions')\n",
    "for name, lat, lon in zip(gdf['name'].tolist(), gdf['centr_lat'].tolist(), gdf['centr_lon'].tolist()):\n",
    "    fg.add_child(folium.Marker(location=[lon, lat], popup=name))\n",
    "    \n",
    "m.add_child(fg)\n",
    "\n",
    "folium.LayerControl().add_to(m)"
   ]
  },
  {
   "cell_type": "code",
   "execution_count": 32,
   "metadata": {
    "collapsed": true
   },
   "outputs": [],
   "source": [
    "m.save('outputs/map.html')"
   ]
  }
 ],
 "metadata": {
  "kernelspec": {
   "display_name": "Python 3",
   "language": "python",
   "name": "python3"
  },
  "language_info": {
   "codemirror_mode": {
    "name": "ipython",
    "version": 3
   },
   "file_extension": ".py",
   "mimetype": "text/x-python",
   "name": "python",
   "nbconvert_exporter": "python",
   "pygments_lexer": "ipython3",
   "version": "3.7.0"
  }
 },
 "nbformat": 4,
 "nbformat_minor": 2
}
