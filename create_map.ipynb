{
 "cells": [
  {
   "cell_type": "code",
   "execution_count": 6,
   "metadata": {},
   "outputs": [],
   "source": [
    "import pandas as pd\n",
    "import folium\n",
    "import numpy as np\n",
    "import json\n",
    "import zipfile\n",
    "import os\n",
    "import geopandas as gpd\n",
    "import time\n",
    "import datetime\n",
    "import itertools\n",
    "import requests\n",
    "import bs4\n",
    "from folium.plugins.timedynamic_geo_json import TimeDynamicGeoJson\n",
    "from branca.colormap import linear\n",
    "import branca.colormap"
   ]
  },
  {
   "cell_type": "code",
   "execution_count": 7,
   "metadata": {
    "collapsed": true
   },
   "outputs": [],
   "source": [
    "pd.options.mode.chained_assignment = None"
   ]
  },
  {
   "cell_type": "code",
   "execution_count": 8,
   "metadata": {
    "collapsed": true
   },
   "outputs": [],
   "source": [
    "with open('data/countries.txt', 'r') as fp:\n",
    "    countries = [f.strip('\\n') for f in fp.readlines()]"
   ]
  },
  {
   "cell_type": "markdown",
   "metadata": {},
   "source": [
    "## READ JSON DATA"
   ]
  },
  {
   "cell_type": "code",
   "execution_count": 9,
   "metadata": {
    "collapsed": true
   },
   "outputs": [],
   "source": [
    "def json_reader(path):\n",
    "    with open(path, 'r', encoding='utf-8') as fh:\n",
    "        return json.loads(fh.read())"
   ]
  },
  {
   "cell_type": "code",
   "execution_count": 10,
   "metadata": {
    "collapsed": true
   },
   "outputs": [],
   "source": [
    "geojsons = {c: json_reader(f\"data/{c.capitalize()}_AL4.GeoJson\") for c in countries}"
   ]
  },
  {
   "cell_type": "markdown",
   "metadata": {},
   "source": [
    "## GEOPANDAS FOR ADDITIONAL DATA"
   ]
  },
  {
   "cell_type": "code",
   "execution_count": 12,
   "metadata": {},
   "outputs": [
    {
     "data": {
      "text/html": [
       "<div>\n",
       "<style scoped>\n",
       "    .dataframe tbody tr th:only-of-type {\n",
       "        vertical-align: middle;\n",
       "    }\n",
       "\n",
       "    .dataframe tbody tr th {\n",
       "        vertical-align: top;\n",
       "    }\n",
       "\n",
       "    .dataframe thead th {\n",
       "        text-align: right;\n",
       "    }\n",
       "</style>\n",
       "<table border=\"1\" class=\"dataframe\">\n",
       "  <thead>\n",
       "    <tr style=\"text-align: right;\">\n",
       "      <th></th>\n",
       "      <th>geometry</th>\n",
       "      <th>name</th>\n",
       "      <th>localname</th>\n",
       "      <th>country</th>\n",
       "      <th>centr_lat</th>\n",
       "      <th>centr_lon</th>\n",
       "    </tr>\n",
       "  </thead>\n",
       "  <tbody>\n",
       "    <tr>\n",
       "      <th>0</th>\n",
       "      <td>(POLYGON ((104.4190919 15.6978084, 104.4190978...</td>\n",
       "      <td>Amnat Charoen Province</td>\n",
       "      <td>จังหวัดอำนาจเจริญ</td>\n",
       "      <td>thailand</td>\n",
       "      <td>104.742211</td>\n",
       "      <td>15.896505</td>\n",
       "    </tr>\n",
       "    <tr>\n",
       "      <th>1</th>\n",
       "      <td>(POLYGON ((100.1949768 14.5658321, 100.1960907...</td>\n",
       "      <td>Ang Thong Province</td>\n",
       "      <td>จังหวัดอ่างทอง</td>\n",
       "      <td>thailand</td>\n",
       "      <td>100.355477</td>\n",
       "      <td>14.623284</td>\n",
       "    </tr>\n",
       "    <tr>\n",
       "      <th>2</th>\n",
       "      <td>(POLYGON ((100.3278772 13.8041844, 100.3318503...</td>\n",
       "      <td>Bangkok</td>\n",
       "      <td>กรุงเทพมหานคร</td>\n",
       "      <td>thailand</td>\n",
       "      <td>100.623651</td>\n",
       "      <td>13.771980</td>\n",
       "    </tr>\n",
       "    <tr>\n",
       "      <th>3</th>\n",
       "      <td>(POLYGON ((103.24334 18.357593, 103.2434 18.35...</td>\n",
       "      <td>Bueng Kan Province</td>\n",
       "      <td>จังหวัดบึงกาฬ</td>\n",
       "      <td>thailand</td>\n",
       "      <td>103.712064</td>\n",
       "      <td>18.148721</td>\n",
       "    </tr>\n",
       "    <tr>\n",
       "      <th>4</th>\n",
       "      <td>(POLYGON ((102.4355316 14.8494415, 102.4369202...</td>\n",
       "      <td>Buri Ram Province</td>\n",
       "      <td>จังหวัดบุรีรัมย์</td>\n",
       "      <td>thailand</td>\n",
       "      <td>102.962893</td>\n",
       "      <td>14.815251</td>\n",
       "    </tr>\n",
       "  </tbody>\n",
       "</table>\n",
       "</div>"
      ],
      "text/plain": [
       "                                            geometry                    name  \\\n",
       "0  (POLYGON ((104.4190919 15.6978084, 104.4190978...  Amnat Charoen Province   \n",
       "1  (POLYGON ((100.1949768 14.5658321, 100.1960907...      Ang Thong Province   \n",
       "2  (POLYGON ((100.3278772 13.8041844, 100.3318503...                 Bangkok   \n",
       "3  (POLYGON ((103.24334 18.357593, 103.2434 18.35...      Bueng Kan Province   \n",
       "4  (POLYGON ((102.4355316 14.8494415, 102.4369202...       Buri Ram Province   \n",
       "\n",
       "           localname   country   centr_lat  centr_lon  \n",
       "0  จังหวัดอำนาจเจริญ  thailand  104.742211  15.896505  \n",
       "1     จังหวัดอ่างทอง  thailand  100.355477  14.623284  \n",
       "2      กรุงเทพมหานคร  thailand  100.623651  13.771980  \n",
       "3      จังหวัดบึงกาฬ  thailand  103.712064  18.148721  \n",
       "4   จังหวัดบุรีรัมย์  thailand  102.962893  14.815251  "
      ]
     },
     "execution_count": 12,
     "metadata": {},
     "output_type": "execute_result"
    }
   ],
   "source": [
    "# concatenate data with country flags\n",
    "for c in countries:\n",
    "    gdf_ = gpd.GeoDataFrame.from_features(geojsons[c])\n",
    "    gdf_['country'] = c\n",
    "    try:\n",
    "        gdf = gdf.append(gdf_, sort = False)\n",
    "    except:\n",
    "        gdf = gdf_\n",
    "\n",
    "# drop some columns and calculate centroids\n",
    "gdf = gdf[['geometry', 'name', 'localname', 'country']]\n",
    "gdf['centr_lat'] = gdf.geometry.centroid.x\n",
    "gdf['centr_lon'] = gdf.geometry.centroid.y\n",
    "gdf = gdf.dropna()\n",
    "gdf = gdf.drop_duplicates(subset=['name'])\n",
    "gdf.head()"
   ]
  },
  {
   "cell_type": "code",
   "execution_count": 13,
   "metadata": {},
   "outputs": [
    {
     "data": {
      "text/plain": [
       "(136, 6)"
      ]
     },
     "execution_count": 13,
     "metadata": {},
     "output_type": "execute_result"
    }
   ],
   "source": [
    "gdf.shape"
   ]
  },
  {
   "cell_type": "markdown",
   "metadata": {},
   "source": [
    "## CREATE AREAS WE HAVE DATA ON"
   ]
  },
  {
   "cell_type": "code",
   "execution_count": 14,
   "metadata": {
    "collapsed": true
   },
   "outputs": [],
   "source": [
    "## THAILAND\n",
    "bangkok = ['Prachuap Khiri Khan Province', 'Phetchaburi Province', 'Ratchaburi Province', 'Samut Songkhram Province',\n",
    "           'Nakhon Pathom Province', 'Samut Sakhon Province', 'Nonthaburi Province', 'Pathum Thani Province',\n",
    "           'Bangkok', 'Samut Prakan Province', 'Nakhon Nayok Province', 'Prachin Buri Province', 'Sa Kaeo Province', \n",
    "           'Chachoengsao Province', 'Chon Buri Province']\n",
    "\n",
    "rainycoast = ['Rayong Province', 'Chanthaburi Province', 'Trat Province']\n",
    "\n",
    "peni_east = ['Prachuap Khiri Khan Province', 'Chumphon Province', 'Surat Thani Province', 'Nakhon Si Thammarat Province',\n",
    "             'Phatthalung Province', 'Songkhla Province', 'Pattani Province', 'Yala Province', 'Narathiwat Province']\n",
    "\n",
    "peni_west = ['Ranong Province', 'Phangnga Province', 'Phuket Province', 'Krabi Province', 'Trang Province',\n",
    "             'Satun Province']\n",
    "\n",
    "mountains = ['Tak Province', 'Mae Hong Son Province', 'Chiang Mai Province', 'Chiang Rai Province', 'Phayao Province',\n",
    "             'Nan Province', 'Uttaradit Province', 'Phitsanulok Province', 'Loei Province']\n",
    "\n",
    "all_oth_thai = bangkok + rainycoast + peni_east + peni_west + mountains\n",
    "north = [f for f in gdf[gdf['country'] == 'thailand']['name'].tolist() if not f in all_oth_thai]\n",
    "\n",
    "div_map = {f: 'Bangkok' for f in bangkok}\n",
    "div_map.update({f: 'Rainycoast' for f in rainycoast})\n",
    "div_map.update({f: 'Eastern peninsular' for f in peni_east})\n",
    "div_map.update({f: 'Wester peninsular' for f in peni_west})\n",
    "div_map.update({f: 'Mountains' for f in mountains})\n",
    "div_map.update({f: 'North' for f in north})"
   ]
  },
  {
   "cell_type": "code",
   "execution_count": 15,
   "metadata": {
    "collapsed": true
   },
   "outputs": [],
   "source": [
    "## CAMBODIA\n",
    "coast = ['Koh Kong', 'Preah Sihanouk', 'Kampot', 'Kep']\n",
    "inside = [f for f in gdf[gdf['country'] == 'cambodia']['name'].tolist() if not f in coast]\n",
    "\n",
    "div_map.update({f: 'Coastal Cambodia' for f in coast})\n",
    "div_map.update({f: 'Inside Cambodia' for f in inside})"
   ]
  },
  {
   "cell_type": "code",
   "execution_count": 16,
   "metadata": {},
   "outputs": [
    {
     "data": {
      "text/html": [
       "<div>\n",
       "<style scoped>\n",
       "    .dataframe tbody tr th:only-of-type {\n",
       "        vertical-align: middle;\n",
       "    }\n",
       "\n",
       "    .dataframe tbody tr th {\n",
       "        vertical-align: top;\n",
       "    }\n",
       "\n",
       "    .dataframe thead th {\n",
       "        text-align: right;\n",
       "    }\n",
       "</style>\n",
       "<table border=\"1\" class=\"dataframe\">\n",
       "  <thead>\n",
       "    <tr style=\"text-align: right;\">\n",
       "      <th></th>\n",
       "      <th>geometry</th>\n",
       "      <th>name</th>\n",
       "      <th>localname</th>\n",
       "      <th>country</th>\n",
       "      <th>centr_lat</th>\n",
       "      <th>centr_lon</th>\n",
       "      <th>regions</th>\n",
       "    </tr>\n",
       "  </thead>\n",
       "  <tbody>\n",
       "    <tr>\n",
       "      <th>0</th>\n",
       "      <td>(POLYGON ((104.4190919 15.6978084, 104.4190978...</td>\n",
       "      <td>Amnat Charoen Province</td>\n",
       "      <td>จังหวัดอำนาจเจริญ</td>\n",
       "      <td>thailand</td>\n",
       "      <td>104.742211</td>\n",
       "      <td>15.896505</td>\n",
       "      <td>North</td>\n",
       "    </tr>\n",
       "    <tr>\n",
       "      <th>1</th>\n",
       "      <td>(POLYGON ((100.1949768 14.5658321, 100.1960907...</td>\n",
       "      <td>Ang Thong Province</td>\n",
       "      <td>จังหวัดอ่างทอง</td>\n",
       "      <td>thailand</td>\n",
       "      <td>100.355477</td>\n",
       "      <td>14.623284</td>\n",
       "      <td>North</td>\n",
       "    </tr>\n",
       "    <tr>\n",
       "      <th>2</th>\n",
       "      <td>(POLYGON ((100.3278772 13.8041844, 100.3318503...</td>\n",
       "      <td>Bangkok</td>\n",
       "      <td>กรุงเทพมหานคร</td>\n",
       "      <td>thailand</td>\n",
       "      <td>100.623651</td>\n",
       "      <td>13.771980</td>\n",
       "      <td>Bangkok</td>\n",
       "    </tr>\n",
       "    <tr>\n",
       "      <th>3</th>\n",
       "      <td>(POLYGON ((103.24334 18.357593, 103.2434 18.35...</td>\n",
       "      <td>Bueng Kan Province</td>\n",
       "      <td>จังหวัดบึงกาฬ</td>\n",
       "      <td>thailand</td>\n",
       "      <td>103.712064</td>\n",
       "      <td>18.148721</td>\n",
       "      <td>North</td>\n",
       "    </tr>\n",
       "    <tr>\n",
       "      <th>4</th>\n",
       "      <td>(POLYGON ((102.4355316 14.8494415, 102.4369202...</td>\n",
       "      <td>Buri Ram Province</td>\n",
       "      <td>จังหวัดบุรีรัมย์</td>\n",
       "      <td>thailand</td>\n",
       "      <td>102.962893</td>\n",
       "      <td>14.815251</td>\n",
       "      <td>North</td>\n",
       "    </tr>\n",
       "  </tbody>\n",
       "</table>\n",
       "</div>"
      ],
      "text/plain": [
       "                                            geometry                    name  \\\n",
       "0  (POLYGON ((104.4190919 15.6978084, 104.4190978...  Amnat Charoen Province   \n",
       "1  (POLYGON ((100.1949768 14.5658321, 100.1960907...      Ang Thong Province   \n",
       "2  (POLYGON ((100.3278772 13.8041844, 100.3318503...                 Bangkok   \n",
       "3  (POLYGON ((103.24334 18.357593, 103.2434 18.35...      Bueng Kan Province   \n",
       "4  (POLYGON ((102.4355316 14.8494415, 102.4369202...       Buri Ram Province   \n",
       "\n",
       "           localname   country   centr_lat  centr_lon  regions  \n",
       "0  จังหวัดอำนาจเจริญ  thailand  104.742211  15.896505    North  \n",
       "1     จังหวัดอ่างทอง  thailand  100.355477  14.623284    North  \n",
       "2      กรุงเทพมหานคร  thailand  100.623651  13.771980  Bangkok  \n",
       "3      จังหวัดบึงกาฬ  thailand  103.712064  18.148721    North  \n",
       "4   จังหวัดบุรีรัมย์  thailand  102.962893  14.815251    North  "
      ]
     },
     "execution_count": 16,
     "metadata": {},
     "output_type": "execute_result"
    }
   ],
   "source": [
    "gdf['regions'] = gdf['name'].map(div_map)\n",
    "gdf.head()"
   ]
  },
  {
   "cell_type": "code",
   "execution_count": 17,
   "metadata": {},
   "outputs": [
    {
     "name": "stdout",
     "output_type": "stream",
     "text": [
      "(136, 7)\n"
     ]
    },
    {
     "data": {
      "text/plain": [
       "(102, 7)"
      ]
     },
     "execution_count": 17,
     "metadata": {},
     "output_type": "execute_result"
    }
   ],
   "source": [
    "print(gdf.shape)\n",
    "gdf = gdf.dropna()\n",
    "gdf.shape"
   ]
  },
  {
   "cell_type": "code",
   "execution_count": 18,
   "metadata": {
    "collapsed": true
   },
   "outputs": [],
   "source": [
    "gdf_dis = gdf.dissolve(by='regions')"
   ]
  },
  {
   "cell_type": "code",
   "execution_count": 19,
   "metadata": {
    "collapsed": true
   },
   "outputs": [],
   "source": [
    "gdf_dis = gdf_dis.drop('name', axis = 1).reset_index()\n",
    "gdf_dis['centr_lat'] = gdf_dis.geometry.centroid.x\n",
    "gdf_dis['centr_lon'] = gdf_dis.geometry.centroid.y"
   ]
  },
  {
   "cell_type": "code",
   "execution_count": 20,
   "metadata": {},
   "outputs": [
    {
     "data": {
      "text/html": [
       "<div>\n",
       "<style scoped>\n",
       "    .dataframe tbody tr th:only-of-type {\n",
       "        vertical-align: middle;\n",
       "    }\n",
       "\n",
       "    .dataframe tbody tr th {\n",
       "        vertical-align: top;\n",
       "    }\n",
       "\n",
       "    .dataframe thead th {\n",
       "        text-align: right;\n",
       "    }\n",
       "</style>\n",
       "<table border=\"1\" class=\"dataframe\">\n",
       "  <thead>\n",
       "    <tr style=\"text-align: right;\">\n",
       "      <th></th>\n",
       "      <th>regions</th>\n",
       "      <th>geometry</th>\n",
       "      <th>localname</th>\n",
       "      <th>country</th>\n",
       "      <th>centr_lat</th>\n",
       "      <th>centr_lon</th>\n",
       "    </tr>\n",
       "  </thead>\n",
       "  <tbody>\n",
       "    <tr>\n",
       "      <th>0</th>\n",
       "      <td>Bangkok</td>\n",
       "      <td>(POLYGON ((100.972446 12.5163367, 100.9722184 ...</td>\n",
       "      <td>กรุงเทพมหานคร</td>\n",
       "      <td>thailand</td>\n",
       "      <td>100.893977</td>\n",
       "      <td>13.606975</td>\n",
       "    </tr>\n",
       "    <tr>\n",
       "      <th>1</th>\n",
       "      <td>Coastal Cambodia</td>\n",
       "      <td>(POLYGON ((102.8802919 9.9327889, 102.8810376 ...</td>\n",
       "      <td>ខេត្តកំពត</td>\n",
       "      <td>cambodia</td>\n",
       "      <td>103.703957</td>\n",
       "      <td>11.230224</td>\n",
       "    </tr>\n",
       "    <tr>\n",
       "      <th>2</th>\n",
       "      <td>Eastern peninsular</td>\n",
       "      <td>(POLYGON ((100.7437142 8.375142800000001, 100....</td>\n",
       "      <td>จังหวัดชุมพร</td>\n",
       "      <td>thailand</td>\n",
       "      <td>99.964067</td>\n",
       "      <td>8.481450</td>\n",
       "    </tr>\n",
       "    <tr>\n",
       "      <th>3</th>\n",
       "      <td>Inside Cambodia</td>\n",
       "      <td>POLYGON ((104.4101661 11.110994, 104.4102828 1...</td>\n",
       "      <td>ខេត្តបន្ទាយមានជ័យ</td>\n",
       "      <td>cambodia</td>\n",
       "      <td>105.052908</td>\n",
       "      <td>12.877208</td>\n",
       "    </tr>\n",
       "    <tr>\n",
       "      <th>4</th>\n",
       "      <td>Mountains</td>\n",
       "      <td>POLYGON ((97.9100251 17.5648335, 97.9105157 17...</td>\n",
       "      <td>จังหวัดเชียงใหม่</td>\n",
       "      <td>thailand</td>\n",
       "      <td>99.660011</td>\n",
       "      <td>18.245166</td>\n",
       "    </tr>\n",
       "    <tr>\n",
       "      <th>5</th>\n",
       "      <td>North</td>\n",
       "      <td>POLYGON ((105.0600095 16.0978688, 105.064462 1...</td>\n",
       "      <td>จังหวัดอำนาจเจริญ</td>\n",
       "      <td>thailand</td>\n",
       "      <td>101.903237</td>\n",
       "      <td>16.037033</td>\n",
       "    </tr>\n",
       "    <tr>\n",
       "      <th>6</th>\n",
       "      <td>Rainycoast</td>\n",
       "      <td>(POLYGON ((102.3384216 12.187277, 102.3386017 ...</td>\n",
       "      <td>จังหวัดจันทบุรี</td>\n",
       "      <td>thailand</td>\n",
       "      <td>102.012957</td>\n",
       "      <td>12.735317</td>\n",
       "    </tr>\n",
       "    <tr>\n",
       "      <th>7</th>\n",
       "      <td>Wester peninsular</td>\n",
       "      <td>(POLYGON ((99.7511875 6.7710485, 99.7520313 6....</td>\n",
       "      <td>จังหวัดกระบี่</td>\n",
       "      <td>thailand</td>\n",
       "      <td>99.086736</td>\n",
       "      <td>8.230258</td>\n",
       "    </tr>\n",
       "  </tbody>\n",
       "</table>\n",
       "</div>"
      ],
      "text/plain": [
       "              regions                                           geometry  \\\n",
       "0             Bangkok  (POLYGON ((100.972446 12.5163367, 100.9722184 ...   \n",
       "1    Coastal Cambodia  (POLYGON ((102.8802919 9.9327889, 102.8810376 ...   \n",
       "2  Eastern peninsular  (POLYGON ((100.7437142 8.375142800000001, 100....   \n",
       "3     Inside Cambodia  POLYGON ((104.4101661 11.110994, 104.4102828 1...   \n",
       "4           Mountains  POLYGON ((97.9100251 17.5648335, 97.9105157 17...   \n",
       "5               North  POLYGON ((105.0600095 16.0978688, 105.064462 1...   \n",
       "6          Rainycoast  (POLYGON ((102.3384216 12.187277, 102.3386017 ...   \n",
       "7   Wester peninsular  (POLYGON ((99.7511875 6.7710485, 99.7520313 6....   \n",
       "\n",
       "           localname   country   centr_lat  centr_lon  \n",
       "0      กรุงเทพมหานคร  thailand  100.893977  13.606975  \n",
       "1          ខេត្តកំពត  cambodia  103.703957  11.230224  \n",
       "2       จังหวัดชุมพร  thailand   99.964067   8.481450  \n",
       "3  ខេត្តបន្ទាយមានជ័យ  cambodia  105.052908  12.877208  \n",
       "4   จังหวัดเชียงใหม่  thailand   99.660011  18.245166  \n",
       "5  จังหวัดอำนาจเจริญ  thailand  101.903237  16.037033  \n",
       "6    จังหวัดจันทบุรี  thailand  102.012957  12.735317  \n",
       "7      จังหวัดกระบี่  thailand   99.086736   8.230258  "
      ]
     },
     "execution_count": 20,
     "metadata": {},
     "output_type": "execute_result"
    }
   ],
   "source": [
    "gdf_dis"
   ]
  },
  {
   "cell_type": "code",
   "execution_count": 51,
   "metadata": {},
   "outputs": [],
   "source": [
    "geojson = json.loads(gdf_dis.to_json())"
   ]
  },
  {
   "cell_type": "code",
   "execution_count": 53,
   "metadata": {},
   "outputs": [
    {
     "data": {
      "text/plain": [
       "8"
      ]
     },
     "execution_count": 53,
     "metadata": {},
     "output_type": "execute_result"
    }
   ],
   "source": [
    "len(geojson['features'])"
   ]
  },
  {
   "cell_type": "markdown",
   "metadata": {},
   "source": [
    "## GET WEATHER DATA"
   ]
  },
  {
   "cell_type": "markdown",
   "metadata": {},
   "source": [
    "https://www.climatestotravel.com/climate/thailand"
   ]
  },
  {
   "cell_type": "code",
   "execution_count": 32,
   "metadata": {
    "collapsed": true
   },
   "outputs": [],
   "source": [
    "def get_country_weather(country):\n",
    "    soup = soup_country_page(country)\n",
    "    captions, dfs = scrape_tables(soup)\n",
    "    return parse_tables_captions(captions, dfs)\n",
    "\n",
    "def soup_country_page(country):\n",
    "    r = requests.get(f'https://www.climatestotravel.com/climate/{country}')\n",
    "    return bs4.BeautifulSoup(r.content, 'html5lib')\n",
    "\n",
    "def scrape_tables(soup):\n",
    "    tables = soup.find_all('table')\n",
    "    dfs = []\n",
    "    captions = []\n",
    "    for table in tables:\n",
    "        caption = table.find_all('caption')\n",
    "        table_rows = table.find_all('tr')\n",
    "        res = []\n",
    "        for tr in table_rows:\n",
    "            td = tr.find_all('td')\n",
    "            row = [tr.text.strip() for tr in td if tr.text.strip()]\n",
    "            if row:\n",
    "                res.append(row)\n",
    "        df = pd.DataFrame(res)\n",
    "        dfs.append(df)\n",
    "        captions.append(caption[0].text)\n",
    "    \n",
    "    assert len(captions) == len(dfs), 'Not matching number of captions and tables!'\n",
    "    return captions, dfs\n",
    "\n",
    "def parse_tables_captions(captions, dfs):\n",
    "    new_dfs = {}\n",
    "    for cap, df in zip(captions, dfs):\n",
    "        if (('temper' in cap) & ('Sea' not in cap)):\n",
    "            df.index = ['MinC', 'MaxC',  'MinF', 'MaxF']\n",
    "            df.columns = [f for f in range(1,13)]\n",
    "        elif 'precip' in cap:\n",
    "            df.index = ['Prec(mm)', 'Prec(in)', 'Prec(days)']\n",
    "            df.columns = [f for f in range(1,13)] + ['Year']\n",
    "        elif 'Sunshin' in cap:\n",
    "            df.index = ['HoursDaily']\n",
    "            df.columns = [f for f in range(1,13)]\n",
    "        else:\n",
    "            continue\n",
    "        new_dfs[cap] = df\n",
    "    return new_dfs"
   ]
  },
  {
   "cell_type": "code",
   "execution_count": 33,
   "metadata": {
    "collapsed": true
   },
   "outputs": [],
   "source": [
    "weathers = {c: get_country_weather(c) for c in countries}"
   ]
  },
  {
   "cell_type": "markdown",
   "metadata": {},
   "source": [
    "## MUNGE WEATHER DATA"
   ]
  },
  {
   "cell_type": "code",
   "execution_count": 34,
   "metadata": {
    "collapsed": true
   },
   "outputs": [],
   "source": [
    "# now only 2 countries\n",
    "countries = ['thailand', 'cambodia']\n",
    "\n",
    "weathers = {k: v for k, v in weathers.items() if k in countries}"
   ]
  },
  {
   "cell_type": "code",
   "execution_count": 35,
   "metadata": {
    "collapsed": true
   },
   "outputs": [],
   "source": [
    "weather_to_region = {'Chiang Mai': 'North', 'Bangkok': 'Bangkok', 'Pattaya': None, \n",
    "                     'Ko Samui': 'Eastern peninsular', 'Phuket': 'Western Peninsular',\n",
    "                     'Phnom Penh': 'Inside Cambodia', 'Kampot': 'Coastal Cambodia'}"
   ]
  },
  {
   "cell_type": "code",
   "execution_count": 36,
   "metadata": {
    "collapsed": true
   },
   "outputs": [],
   "source": [
    "def translate_weather_to_region(weather_annot, weather_to_region):\n",
    "    return weather_to_region[weather_annot.split(\"-\")[0].strip()]"
   ]
  },
  {
   "cell_type": "code",
   "execution_count": 37,
   "metadata": {
    "collapsed": true
   },
   "outputs": [],
   "source": [
    "weather_data = {r: {} for r in weather_to_region.values()}\n",
    "for c, data in weathers.items():\n",
    "    for key, val in data.items():\n",
    "        region = translate_weather_to_region(key, weather_to_region)\n",
    "        if region is None:\n",
    "                continue\n",
    "        for col in val.columns:\n",
    "            val[col] = val[col].astype(float)\n",
    "        if 'temper' in key:\n",
    "            val = val.iloc[:2]\n",
    "            val = pd.DataFrame(val.mean()).T\n",
    "            val.index = [region]\n",
    "            try:\n",
    "                weather_data['temper'] = weather_data['temper'].append(val)\n",
    "            except:\n",
    "                weather_data['temper'] = val\n",
    "            weather_data[region]['temper'] = val\n",
    "        if 'precip' in key:\n",
    "            val = pd.DataFrame(val.iloc[0].drop('Year')).T\n",
    "            val.index = [region]\n",
    "            try:\n",
    "                weather_data['precip'] = weather_data['precip'].append(val)\n",
    "            except:\n",
    "                weather_data['precip'] = val"
   ]
  },
  {
   "cell_type": "code",
   "execution_count": 38,
   "metadata": {},
   "outputs": [
    {
     "data": {
      "text/html": [
       "<div>\n",
       "<style scoped>\n",
       "    .dataframe tbody tr th:only-of-type {\n",
       "        vertical-align: middle;\n",
       "    }\n",
       "\n",
       "    .dataframe tbody tr th {\n",
       "        vertical-align: top;\n",
       "    }\n",
       "\n",
       "    .dataframe thead th {\n",
       "        text-align: right;\n",
       "    }\n",
       "</style>\n",
       "<table border=\"1\" class=\"dataframe\">\n",
       "  <thead>\n",
       "    <tr style=\"text-align: right;\">\n",
       "      <th></th>\n",
       "      <th>1</th>\n",
       "      <th>2</th>\n",
       "      <th>3</th>\n",
       "      <th>4</th>\n",
       "      <th>5</th>\n",
       "      <th>6</th>\n",
       "      <th>7</th>\n",
       "      <th>8</th>\n",
       "      <th>9</th>\n",
       "      <th>10</th>\n",
       "      <th>11</th>\n",
       "      <th>12</th>\n",
       "    </tr>\n",
       "  </thead>\n",
       "  <tbody>\n",
       "    <tr>\n",
       "      <th>North</th>\n",
       "      <td>21.5</td>\n",
       "      <td>24.0</td>\n",
       "      <td>27.0</td>\n",
       "      <td>29.0</td>\n",
       "      <td>29.0</td>\n",
       "      <td>28.5</td>\n",
       "      <td>28.0</td>\n",
       "      <td>27.5</td>\n",
       "      <td>27.5</td>\n",
       "      <td>26.5</td>\n",
       "      <td>24.5</td>\n",
       "      <td>21.5</td>\n",
       "    </tr>\n",
       "    <tr>\n",
       "      <th>Bangkok</th>\n",
       "      <td>26.5</td>\n",
       "      <td>28.0</td>\n",
       "      <td>29.5</td>\n",
       "      <td>30.5</td>\n",
       "      <td>30.0</td>\n",
       "      <td>29.0</td>\n",
       "      <td>29.0</td>\n",
       "      <td>29.0</td>\n",
       "      <td>28.5</td>\n",
       "      <td>28.0</td>\n",
       "      <td>27.5</td>\n",
       "      <td>26.0</td>\n",
       "    </tr>\n",
       "    <tr>\n",
       "      <th>Eastern peninsular</th>\n",
       "      <td>26.5</td>\n",
       "      <td>27.5</td>\n",
       "      <td>28.5</td>\n",
       "      <td>29.0</td>\n",
       "      <td>29.5</td>\n",
       "      <td>29.0</td>\n",
       "      <td>28.5</td>\n",
       "      <td>28.5</td>\n",
       "      <td>28.5</td>\n",
       "      <td>27.5</td>\n",
       "      <td>27.0</td>\n",
       "      <td>26.5</td>\n",
       "    </tr>\n",
       "    <tr>\n",
       "      <th>Western Peninsular</th>\n",
       "      <td>27.0</td>\n",
       "      <td>27.5</td>\n",
       "      <td>28.5</td>\n",
       "      <td>29.0</td>\n",
       "      <td>28.0</td>\n",
       "      <td>28.0</td>\n",
       "      <td>28.0</td>\n",
       "      <td>27.5</td>\n",
       "      <td>27.0</td>\n",
       "      <td>27.5</td>\n",
       "      <td>27.5</td>\n",
       "      <td>27.5</td>\n",
       "    </tr>\n",
       "    <tr>\n",
       "      <th>Inside Cambodia</th>\n",
       "      <td>27.0</td>\n",
       "      <td>28.0</td>\n",
       "      <td>29.5</td>\n",
       "      <td>30.0</td>\n",
       "      <td>29.5</td>\n",
       "      <td>29.5</td>\n",
       "      <td>29.0</td>\n",
       "      <td>29.0</td>\n",
       "      <td>28.0</td>\n",
       "      <td>27.5</td>\n",
       "      <td>26.5</td>\n",
       "      <td>26.0</td>\n",
       "    </tr>\n",
       "    <tr>\n",
       "      <th>Coastal Cambodia</th>\n",
       "      <td>26.0</td>\n",
       "      <td>26.5</td>\n",
       "      <td>27.5</td>\n",
       "      <td>28.5</td>\n",
       "      <td>28.5</td>\n",
       "      <td>27.5</td>\n",
       "      <td>27.0</td>\n",
       "      <td>27.0</td>\n",
       "      <td>26.5</td>\n",
       "      <td>27.0</td>\n",
       "      <td>26.5</td>\n",
       "      <td>26.0</td>\n",
       "    </tr>\n",
       "  </tbody>\n",
       "</table>\n",
       "</div>"
      ],
      "text/plain": [
       "                      1     2     3     4     5     6     7     8     9   \\\n",
       "North               21.5  24.0  27.0  29.0  29.0  28.5  28.0  27.5  27.5   \n",
       "Bangkok             26.5  28.0  29.5  30.5  30.0  29.0  29.0  29.0  28.5   \n",
       "Eastern peninsular  26.5  27.5  28.5  29.0  29.5  29.0  28.5  28.5  28.5   \n",
       "Western Peninsular  27.0  27.5  28.5  29.0  28.0  28.0  28.0  27.5  27.0   \n",
       "Inside Cambodia     27.0  28.0  29.5  30.0  29.5  29.5  29.0  29.0  28.0   \n",
       "Coastal Cambodia    26.0  26.5  27.5  28.5  28.5  27.5  27.0  27.0  26.5   \n",
       "\n",
       "                      10    11    12  \n",
       "North               26.5  24.5  21.5  \n",
       "Bangkok             28.0  27.5  26.0  \n",
       "Eastern peninsular  27.5  27.0  26.5  \n",
       "Western Peninsular  27.5  27.5  27.5  \n",
       "Inside Cambodia     27.5  26.5  26.0  \n",
       "Coastal Cambodia    27.0  26.5  26.0  "
      ]
     },
     "execution_count": 38,
     "metadata": {},
     "output_type": "execute_result"
    }
   ],
   "source": [
    "weather_data['temper'].dropna()"
   ]
  },
  {
   "cell_type": "markdown",
   "metadata": {},
   "source": [
    "## CREATE COLOR CODING"
   ]
  },
  {
   "cell_type": "code",
   "execution_count": 90,
   "metadata": {},
   "outputs": [],
   "source": [
    "def get_color(cmap, r, month, type_, weather_data=weather_data, gdf_dis=gdf_dis,):\n",
    "    try:\n",
    "        return cmap(weather_data[type_].loc[gdf_dis.loc[r,'regions'], month])\n",
    "    except:\n",
    "        return \"000000\""
   ]
  },
  {
   "cell_type": "code",
   "execution_count": 91,
   "metadata": {
    "collapsed": true
   },
   "outputs": [],
   "source": [
    "min_temp = weather_data['temper'].min().min()\n",
    "max_temp = weather_data['temper'].max().max()\n",
    "min_precip = weather_data['precip'].min().min()\n",
    "max_precip = weather_data['precip'].max().max()"
   ]
  },
  {
   "cell_type": "code",
   "execution_count": 92,
   "metadata": {},
   "outputs": [],
   "source": [
    "cmap_temper = branca.colormap.LinearColormap(colors = ('yellow', 'red'), vmin = min_temp, vmax = max_temp)\n",
    "cmap_precip = branca.colormap.LinearColormap(colors = ('white', 'blue'), vmin = min_precip, vmax = max_precip)"
   ]
  },
  {
   "cell_type": "code",
   "execution_count": 95,
   "metadata": {},
   "outputs": [],
   "source": [
    "# opacity will be standard\n",
    "opa = 0.5\n",
    "\n",
    "styledata_temper = {r: \n",
    "             {f'2018-{str(month)}-1':\n",
    "             {'color': get_color(cmap_temper, r, month, 'temper'),\n",
    "              'opacity': opa}\n",
    "              for month in range(1, 13)}\n",
    "             for r in range(8)}\n",
    "\n",
    "styledata_precip = {r: \n",
    "             {f'2018-{str(month)}-1':\n",
    "             {'color': get_color(cmap_precip, r, month, 'precip'),\n",
    "              'opacity': opa}\n",
    "              for month in range(1, 13)}\n",
    "             for r in range(8)} \n"
   ]
  },
  {
   "cell_type": "markdown",
   "metadata": {},
   "source": [
    "## CREATE MAP"
   ]
  },
  {
   "cell_type": "code",
   "execution_count": 100,
   "metadata": {
    "collapsed": true
   },
   "outputs": [],
   "source": [
    "m = folium.Map(location = (15.896505, 104.742211), zoom_start=8)"
   ]
  },
  {
   "cell_type": "code",
   "execution_count": 102,
   "metadata": {
    "collapsed": true
   },
   "outputs": [],
   "source": [
    "m_temper = folium.Map(location = (15.896505, 104.742211), zoom_start=8)\n",
    "\n",
    "g = TimeDynamicGeoJson(\n",
    "    gdf_dis.to_json(),\n",
    "    styledict = styledata_temper,\n",
    "    \n",
    ").add_to(m_temper)\n",
    "\n",
    "m_precip = folium.Map(location = (15.896505, 104.742211), zoom_start=8)\n",
    "\n",
    "g2 = TimeDynamicGeoJson(\n",
    "    gdf_dis.to_json(),\n",
    "    styledict = styledata_precip,\n",
    "    \n",
    ").add_to(m_precip)\n",
    "\n",
    "m_precip.save('outputs/precipitation_timeslider.html')\n",
    "m_temper.save('outputs/temperature_timeslider.html')"
   ]
  },
  {
   "cell_type": "code",
   "execution_count": 31,
   "metadata": {},
   "outputs": [
    {
     "data": {
      "text/plain": [
       "<folium.map.LayerControl at 0x28a5216cef0>"
      ]
     },
     "execution_count": 31,
     "metadata": {},
     "output_type": "execute_result"
    }
   ],
   "source": [
    "for k, v in geojsons.items():\n",
    "    folium.GeoJson(\n",
    "        v,\n",
    "        name=k.capitalize()\n",
    "    ).add_to(m)\n",
    "\n",
    "fg = folium.FeatureGroup(name='Regions')\n",
    "for name, lat, lon in zip(gdf['name'].tolist(), gdf['centr_lat'].tolist(), gdf['centr_lon'].tolist()):\n",
    "    fg.add_child(folium.Marker(location=[lon, lat], popup=name))\n",
    "    \n",
    "m.add_child(fg)\n",
    "\n",
    "folium.LayerControl().add_to(m)"
   ]
  },
  {
   "cell_type": "code",
   "execution_count": 32,
   "metadata": {
    "collapsed": true
   },
   "outputs": [],
   "source": [
    "m.save('outputs/map.html')"
   ]
  }
 ],
 "metadata": {
  "kernelspec": {
   "display_name": "Python 3",
   "language": "python",
   "name": "python3"
  }
 },
 "nbformat": 4,
 "nbformat_minor": 2
}
