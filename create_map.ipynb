{
 "cells": [
  {
   "cell_type": "code",
   "execution_count": 31,
   "metadata": {
    "collapsed": true
   },
   "outputs": [],
   "source": [
    "import pandas as pd\n",
    "import folium\n",
    "import numpy as np\n",
    "import json\n",
    "import zipfile\n",
    "import os\n",
    "import geopandas as gpd\n",
    "import time\n",
    "import datetime\n",
    "import itertools\n",
    "import requests"
   ]
  },
  {
   "cell_type": "code",
   "execution_count": 2,
   "metadata": {
    "collapsed": true
   },
   "outputs": [],
   "source": [
    "countries = ['thailand', 'cambodia', 'laos', 'malaysia']"
   ]
  },
  {
   "cell_type": "markdown",
   "metadata": {},
   "source": [
    "## UNZIP DATA"
   ]
  },
  {
   "cell_type": "code",
   "execution_count": null,
   "metadata": {},
   "outputs": [],
   "source": [
    "for c in countries:\n",
    "    path_to_zip_file = f'data/{c}.zip'\n",
    "    directory_to_extract_to = 'data/'\n",
    "    zip_ref = zipfile.ZipFile(path_to_zip_file, 'r')\n",
    "    zip_ref.extractall(directory_to_extract_to)\n",
    "    zip_ref.close()\n",
    "    os.unlink(path_to_zip_file)"
   ]
  },
  {
   "cell_type": "markdown",
   "metadata": {},
   "source": [
    "## READ JSON DATA"
   ]
  },
  {
   "cell_type": "code",
   "execution_count": 3,
   "metadata": {
    "collapsed": true
   },
   "outputs": [],
   "source": [
    "def json_reader(path):\n",
    "    with open(path, 'r', encoding='utf-8') as fh:\n",
    "        return json.loads(fh.read())"
   ]
  },
  {
   "cell_type": "code",
   "execution_count": 4,
   "metadata": {
    "collapsed": true
   },
   "outputs": [],
   "source": [
    "geojsons = {f: json_reader(f\"data/{f.capitalize()}_AL4.GeoJson\") for f in countries}"
   ]
  },
  {
   "cell_type": "markdown",
   "metadata": {},
   "source": [
    "## GEOPANDAS FOR ADDITIONAL DATA"
   ]
  },
  {
   "cell_type": "code",
   "execution_count": 5,
   "metadata": {},
   "outputs": [
    {
     "name": "stdout",
     "output_type": "stream",
     "text": [
      "nemappend\n",
      "append\n",
      "append\n",
      "append\n"
     ]
    },
    {
     "data": {
      "text/html": [
       "<div>\n",
       "<style scoped>\n",
       "    .dataframe tbody tr th:only-of-type {\n",
       "        vertical-align: middle;\n",
       "    }\n",
       "\n",
       "    .dataframe tbody tr th {\n",
       "        vertical-align: top;\n",
       "    }\n",
       "\n",
       "    .dataframe thead th {\n",
       "        text-align: right;\n",
       "    }\n",
       "</style>\n",
       "<table border=\"1\" class=\"dataframe\">\n",
       "  <thead>\n",
       "    <tr style=\"text-align: right;\">\n",
       "      <th></th>\n",
       "      <th>geometry</th>\n",
       "      <th>name</th>\n",
       "      <th>localname</th>\n",
       "      <th>wikipedia</th>\n",
       "      <th>centr_lat</th>\n",
       "      <th>centr_lon</th>\n",
       "    </tr>\n",
       "  </thead>\n",
       "  <tbody>\n",
       "    <tr>\n",
       "      <th>0</th>\n",
       "      <td>(POLYGON ((104.4190919 15.6978084, 104.4190978...</td>\n",
       "      <td>Amnat Charoen Province</td>\n",
       "      <td>จังหวัดอำนาจเจริญ</td>\n",
       "      <td>en:Amnat Charoen Province</td>\n",
       "      <td>104.742211</td>\n",
       "      <td>15.896505</td>\n",
       "    </tr>\n",
       "    <tr>\n",
       "      <th>1</th>\n",
       "      <td>(POLYGON ((100.1949768 14.5658321, 100.1960907...</td>\n",
       "      <td>Ang Thong Province</td>\n",
       "      <td>จังหวัดอ่างทอง</td>\n",
       "      <td>en:Ang Thong Province</td>\n",
       "      <td>100.355477</td>\n",
       "      <td>14.623284</td>\n",
       "    </tr>\n",
       "    <tr>\n",
       "      <th>2</th>\n",
       "      <td>(POLYGON ((100.3278772 13.8041844, 100.3318503...</td>\n",
       "      <td>Bangkok</td>\n",
       "      <td>กรุงเทพมหานคร</td>\n",
       "      <td>en:Bangkok</td>\n",
       "      <td>100.623651</td>\n",
       "      <td>13.771980</td>\n",
       "    </tr>\n",
       "    <tr>\n",
       "      <th>3</th>\n",
       "      <td>(POLYGON ((103.24334 18.357593, 103.2434 18.35...</td>\n",
       "      <td>Bueng Kan Province</td>\n",
       "      <td>จังหวัดบึงกาฬ</td>\n",
       "      <td>en:Bueng Kan Province</td>\n",
       "      <td>103.712064</td>\n",
       "      <td>18.148721</td>\n",
       "    </tr>\n",
       "    <tr>\n",
       "      <th>4</th>\n",
       "      <td>(POLYGON ((102.4355316 14.8494415, 102.4369202...</td>\n",
       "      <td>Buri Ram Province</td>\n",
       "      <td>จังหวัดบุรีรัมย์</td>\n",
       "      <td>en:Buriram Province</td>\n",
       "      <td>102.962893</td>\n",
       "      <td>14.815251</td>\n",
       "    </tr>\n",
       "  </tbody>\n",
       "</table>\n",
       "</div>"
      ],
      "text/plain": [
       "                                            geometry                    name  \\\n",
       "0  (POLYGON ((104.4190919 15.6978084, 104.4190978...  Amnat Charoen Province   \n",
       "1  (POLYGON ((100.1949768 14.5658321, 100.1960907...      Ang Thong Province   \n",
       "2  (POLYGON ((100.3278772 13.8041844, 100.3318503...                 Bangkok   \n",
       "3  (POLYGON ((103.24334 18.357593, 103.2434 18.35...      Bueng Kan Province   \n",
       "4  (POLYGON ((102.4355316 14.8494415, 102.4369202...       Buri Ram Province   \n",
       "\n",
       "           localname                  wikipedia   centr_lat  centr_lon  \n",
       "0  จังหวัดอำนาจเจริญ  en:Amnat Charoen Province  104.742211  15.896505  \n",
       "1     จังหวัดอ่างทอง      en:Ang Thong Province  100.355477  14.623284  \n",
       "2      กรุงเทพมหานคร                 en:Bangkok  100.623651  13.771980  \n",
       "3      จังหวัดบึงกาฬ      en:Bueng Kan Province  103.712064  18.148721  \n",
       "4   จังหวัดบุรีรัมย์        en:Buriram Province  102.962893  14.815251  "
      ]
     },
     "execution_count": 5,
     "metadata": {},
     "output_type": "execute_result"
    }
   ],
   "source": [
    "# concatenate data with country flags\n",
    "for c in countries:\n",
    "    gdf_ = gpd.GeoDataFrame.from_features(geojsons[c])\n",
    "    gdf_['country'] = c\n",
    "    try:\n",
    "        gdf = gdf.append(gdf_, sort = False)\n",
    "    except:\n",
    "        gdf = gdf_\n",
    "\n",
    "# drop some columns and calculate centroids\n",
    "gdf = gdf[['geometry', 'name', 'localname', 'wikipedia']]\n",
    "gdf['centr_lat'] = gdf.geometry.centroid.x\n",
    "gdf['centr_lon'] = gdf.geometry.centroid.y\n",
    "gdf.head()"
   ]
  },
  {
   "cell_type": "code",
   "execution_count": 6,
   "metadata": {},
   "outputs": [
    {
     "data": {
      "text/plain": [
       "(136, 6)"
      ]
     },
     "execution_count": 6,
     "metadata": {},
     "output_type": "execute_result"
    }
   ],
   "source": [
    "gdf.shape"
   ]
  },
  {
   "cell_type": "markdown",
   "metadata": {},
   "source": [
    "## API CALL FOR WEATHER DATA"
   ]
  },
  {
   "cell_type": "code",
   "execution_count": 18,
   "metadata": {
    "collapsed": true
   },
   "outputs": [],
   "source": [
    "def convert_to_timestamp(s):\n",
    "    return time.mktime(datetime.datetime.strptime(s, \"%d/%m/%Y\").timetuple())"
   ]
  },
  {
   "cell_type": "code",
   "execution_count": 9,
   "metadata": {},
   "outputs": [
    {
     "data": {
      "text/plain": [
       "[(104.74221061528203, 15.896504764601259),\n",
       " (100.35547709400848, 14.623284326491325),\n",
       " (100.62365087151149, 13.771980174746414),\n",
       " (103.71206364706076, 18.148720653792953),\n",
       " (102.96289283806522, 14.815251418301179),\n",
       " (101.45149021849265, 13.603437278615134),\n",
       " (100.02435585047859, 15.13136828922321),\n",
       " (101.80252807832218, 16.00790158529956),\n",
       " (102.12941835510354, 12.86118366277432),\n",
       " (98.7340673664231, 18.78770721827598)]"
      ]
     },
     "execution_count": 9,
     "metadata": {},
     "output_type": "execute_result"
    }
   ],
   "source": [
    "coordinates = [(lat, lon) for lat, lon in zip(gdf.centr_lat.tolist(), gdf.centr_lon.tolist())]\n",
    "coordinates[0:10]"
   ]
  },
  {
   "cell_type": "code",
   "execution_count": 16,
   "metadata": {},
   "outputs": [],
   "source": [
    "start_dates = [f'01/{str(ho)}/2018' for ho in range(1, 13)]\n",
    "date_tuples = [(convert_to_timestamp(start_dates[i]), convert_to_timestamp(start_dates[i+1])) \n",
    "                for i in range(len(start_dates)-1)]"
   ]
  },
  {
   "cell_type": "code",
   "execution_count": 17,
   "metadata": {},
   "outputs": [
    {
     "data": {
      "text/plain": [
       "[(1514761200.0, 1517439600.0),\n",
       " (1517439600.0, 1519858800.0),\n",
       " (1519858800.0, 1522533600.0),\n",
       " (1522533600.0, 1525125600.0),\n",
       " (1525125600.0, 1527804000.0),\n",
       " (1527804000.0, 1530396000.0),\n",
       " (1530396000.0, 1533074400.0),\n",
       " (1533074400.0, 1535752800.0),\n",
       " (1535752800.0, 1538344800.0),\n",
       " (1538344800.0, 1541026800.0),\n",
       " (1541026800.0, 1543618800.0)]"
      ]
     },
     "execution_count": 17,
     "metadata": {},
     "output_type": "execute_result"
    }
   ],
   "source": [
    "date_tuples"
   ]
  },
  {
   "cell_type": "code",
   "execution_count": 22,
   "metadata": {},
   "outputs": [],
   "source": [
    "api_call_set = list(itertools.product(date_tuples, coordinates))"
   ]
  },
  {
   "cell_type": "markdown",
   "metadata": {},
   "source": [
    "hint: http://history.openweathermap.org/data/2.5/history/city?lat=41.85&lon=-87.65"
   ]
  },
  {
   "cell_type": "code",
   "execution_count": 33,
   "metadata": {
    "collapsed": true
   },
   "outputs": [],
   "source": [
    "base_url = 'http://history.openweathermap.org/data/2.5/history/city?'"
   ]
  },
  {
   "cell_type": "code",
   "execution_count": 36,
   "metadata": {},
   "outputs": [],
   "source": [
    "r = requests.get(f\"{base_url}lat={api_call_set[0][0][0]}&lon={api_call_set[0][0][1]}&start={api_call_set[0][1][0]}&end={api_call_set[0][1][1]}&APPID=1807857692fc0fa3162fdf680fb8e5fc\")"
   ]
  },
  {
   "cell_type": "code",
   "execution_count": 37,
   "metadata": {},
   "outputs": [
    {
     "data": {
      "text/plain": [
       "{'cod': 401,\n",
       " 'message': 'Invalid API key. Please see http://openweathermap.org/faq#error401 for more info.'}"
      ]
     },
     "execution_count": 37,
     "metadata": {},
     "output_type": "execute_result"
    }
   ],
   "source": [
    "r.json()"
   ]
  },
  {
   "cell_type": "markdown",
   "metadata": {},
   "source": [
    "## CREATE MAP"
   ]
  },
  {
   "cell_type": "code",
   "execution_count": 27,
   "metadata": {
    "collapsed": true
   },
   "outputs": [],
   "source": [
    "m = folium.Map(location = (15.896505, 104.742211))"
   ]
  },
  {
   "cell_type": "code",
   "execution_count": 28,
   "metadata": {},
   "outputs": [
    {
     "data": {
      "text/plain": [
       "<folium.map.LayerControl at 0x22cd2f402e8>"
      ]
     },
     "execution_count": 28,
     "metadata": {},
     "output_type": "execute_result"
    }
   ],
   "source": [
    "for k, v in geojsons.items():\n",
    "    folium.GeoJson(\n",
    "        v,\n",
    "        name=k.capitalize()\n",
    "    ).add_to(m)\n",
    "    \n",
    "folium.LayerControl().add_to(m)"
   ]
  },
  {
   "cell_type": "code",
   "execution_count": 29,
   "metadata": {
    "collapsed": true
   },
   "outputs": [],
   "source": [
    "m.save('outputs/map.html')"
   ]
  }
 ],
 "metadata": {
  "kernelspec": {
   "display_name": "Python 3",
   "language": "python",
   "name": "python3"
  },
  "language_info": {
   "codemirror_mode": {
    "name": "ipython",
    "version": 3
   },
   "file_extension": ".py",
   "mimetype": "text/x-python",
   "name": "python",
   "nbconvert_exporter": "python",
   "pygments_lexer": "ipython3",
   "version": "3.6.3"
  }
 },
 "nbformat": 4,
 "nbformat_minor": 2
}
